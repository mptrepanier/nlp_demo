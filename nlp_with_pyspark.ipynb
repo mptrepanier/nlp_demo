{
 "cells": [
  {
   "cell_type": "markdown",
   "metadata": {},
   "source": [
    "# Spark's ML Capabilities - Latent Dirilecht Allocation"
   ]
  },
  {
   "cell_type": "markdown",
   "metadata": {},
   "source": [
    "## LDA - What is it?"
   ]
  },
  {
   "cell_type": "markdown",
   "metadata": {},
   "source": [
    "LDA uses a generative model to automatically discover topics within an article. The algrotihm regards each article as a mixture of topics, and that the words within the article belong to a particular topic.\n",
    "\n",
    "For example, suppose you have the following set of sentences:\n",
    "\n",
    "* I like to eat broccoli and bananas.\n",
    "* I ate a banana and spinach smoothie for breakfast.\n",
    "* Chincillas and kittens are cute.\n",
    "* My sister adopted a kitten yesterday.\n",
    "* Look at this cute hamster munching on a piece of broccoli.\n",
    "\n",
    "LDA might product something like:\n",
    "* **Sentences 1 and 2:** 100% Topic A\n",
    "* **Sentences 3 and 4:** 100% Topic B\n",
    "* **Sentence 5**: 60% Topic A, 40% Topic B\n",
    "* **Topic A**: 30% broccoli, 15% bananas, 10% breakfast, 10% munching, ... (A person or algorithm would thereafter interpret this topic to be about food.\n",
    "* **Topic B**: 20% chinchillas, 20% kittens, 20% cute, ... \n"
   ]
  },
  {
   "cell_type": "markdown",
   "metadata": {},
   "source": [
    "## Implementing the Algorithm in PySpark"
   ]
  },
  {
   "cell_type": "markdown",
   "metadata": {
    "collapsed": true
   },
   "source": [
    "We begin our code with some imports."
   ]
  },
  {
   "cell_type": "code",
   "execution_count": 16,
   "metadata": {
    "collapsed": false
   },
   "outputs": [],
   "source": [
    "from pyspark.sql import SparkSession\n",
    "from pyspark.ml.feature import StopWordsRemover, CountVectorizer, CountVectorizerModel, RegexTokenizer, Tokenizer\n",
    "from pyspark.ml.clustering import LDA\n",
    "from pyspark.sql.functions import udf\n",
    "from pyspark.sql.types import *\n",
    "import nltk\n",
    "from nltk.stem.wordnet import WordNetLemmatizer\n",
    "from nltk import pos_tag\n",
    "import pandas as pd\n",
    "import numpy as np\n",
    "import matplotlib.pyplot as plt\n",
    "import matplotlib.pylab as pylab\n",
    "import string\n",
    "import re\n",
    "pylab.rcParams['figure.figsize'] = 12, 12"
   ]
  },
  {
   "cell_type": "markdown",
   "metadata": {
    "collapsed": true
   },
   "source": [
    "Next, we initialize our Sparksession. We communicate with Spark (and thus the cluster) via the Sparksession."
   ]
  },
  {
   "cell_type": "code",
   "execution_count": 17,
   "metadata": {
    "collapsed": false
   },
   "outputs": [],
   "source": [
    "spark = SparkSession.builder.appName(\"LDA\").getOrCreate()\n",
    "# nltk.download('all')"
   ]
  },
  {
   "cell_type": "markdown",
   "metadata": {},
   "source": [
    "We need to provide the file location in the Gcloud bucket to read it in to a `DataFrame`."
   ]
  },
  {
   "cell_type": "code",
   "execution_count": 18,
   "metadata": {
    "collapsed": false
   },
   "outputs": [],
   "source": [
    "bucket_location = \"gs://dataproc-04d7eda2-db56-484f-aba4-5db51f8b3d84-us/\"\n",
    "#file_location = \"mimic/NOTEEVENTS_DEMO_PROCESSED.csv\"\n",
    "file_location = \"mimic/NOTEEVENTS_DEMO_PROCESSED.csv\"\n",
    "notes_df = spark.read.format(\"csv\").option(\"header\", \"true\").option(\"inferSchema\", \"true\").option(\"delimiter\", \",\").load(bucket_location + file_location).na.fill(-1)"
   ]
  },
  {
   "cell_type": "markdown",
   "metadata": {},
   "source": [
    "## Preprocessing the Data"
   ]
  },
  {
   "cell_type": "markdown",
   "metadata": {},
   "source": [
    "Next, we need to preprocess the text data. First, let's define a function for removing any unwanted characters and implement it as `UserDefinedFunction`, or `udf`."
   ]
  },
  {
   "cell_type": "code",
   "execution_count": 4,
   "metadata": {
    "collapsed": false
   },
   "outputs": [],
   "source": [
    "# Courtesy: https://mingchen0919.github.io/learning-apache-spark/nlpC.html\n",
    "def remove_features(data_str):\n",
    "    # compile regex\n",
    "    url_re = re.compile('https?://(www.)?\\w+\\.\\w+(/\\w+)*/?')\n",
    "    punc_re = re.compile('[%s]' % re.escape(string.punctuation))\n",
    "    num_re = re.compile('(\\\\d+)')\n",
    "    mention_re = re.compile('@(\\w+)')\n",
    "    alpha_num_re = re.compile(\"^[a-z0-9_.]+$\")\n",
    "    # convert to lowercase\n",
    "    data_str = data_str.lower()\n",
    "    # remove hyperlinks\n",
    "    data_str = url_re.sub(' ', data_str)\n",
    "    # remove @mentions\n",
    "    data_str = mention_re.sub(' ', data_str)\n",
    "    # remove puncuation\n",
    "    data_str = punc_re.sub(' ', data_str)\n",
    "    # remove numeric 'words'\n",
    "    data_str = num_re.sub(' ', data_str)\n",
    "    # remove non a-z 0-9 characters and words shorter than 3 characters\n",
    "    list_pos = 0\n",
    "    cleaned_str = ''\n",
    "    for word in data_str.split():\n",
    "        if list_pos == 0:\n",
    "            if alpha_num_re.match(word) and len(word) > 2:\n",
    "                cleaned_str = word\n",
    "            else:\n",
    "                cleaned_str = ' '\n",
    "        else:\n",
    "            if alpha_num_re.match(word) and len(word) > 2:\n",
    "                cleaned_str = cleaned_str + ' ' + word\n",
    "            else:\n",
    "                cleaned_str += ' '\n",
    "        list_pos += 1\n",
    "    return cleaned_str\n",
    "\n",
    "remove_features_udf = udf(remove_features, StringType())"
   ]
  },
  {
   "cell_type": "markdown",
   "metadata": {},
   "source": [
    "Next, let's filter out any notes with errors and then use the above `udf` to remove the characters we specified."
   ]
  },
  {
   "cell_type": "code",
   "execution_count": 5,
   "metadata": {
    "collapsed": false
   },
   "outputs": [
    {
     "name": "stdout",
     "output_type": "stream",
     "text": [
      "+-----+--------------------+\n",
      "|rowid|                text|\n",
      "+-----+--------------------+\n",
      "|  227|admission date di...|\n",
      "|  868|admission date di...|\n",
      "|  869|admission date di...|\n",
      "|  870|admission date di...|\n",
      "|  906|admission date di...|\n",
      "+-----+--------------------+\n",
      "only showing top 5 rows\n",
      "\n"
     ]
    }
   ],
   "source": [
    "small_notes_df = notes_df.filter(notes_df['iserror'] != '1').select(notes_df['rowid'], remove_features_udf(notes_df['text'].cast(\"string\")).alias('text'))\n",
    "small_notes_df.persist()\n",
    "small_notes_df.show(5)"
   ]
  },
  {
   "cell_type": "markdown",
   "metadata": {},
   "source": [
    "We now need to group together the inflected forms of the words so we can analyze them as a single item - a process known as lemmatizaiton. We use a similar approach as when the unwanted characters were removed."
   ]
  },
  {
   "cell_type": "code",
   "execution_count": 19,
   "metadata": {
    "collapsed": false
   },
   "outputs": [],
   "source": [
    "def lemmatize(data_str):\n",
    "    # expects a string\n",
    "    list_pos = 0\n",
    "    cleaned_str = ''\n",
    "    lmtzr = WordNetLemmatizer()\n",
    "    text = data_str.split()\n",
    "    tagged_words = pos_tag(text)\n",
    "    for word in tagged_words:\n",
    "        if 'v' in word[1].lower():\n",
    "            lemma = lmtzr.lemmatize(word[0], pos='v')\n",
    "        else:\n",
    "            lemma = lmtzr.lemmatize(word[0], pos='n')\n",
    "        if list_pos == 0:\n",
    "            cleaned_str = lemma\n",
    "        else:\n",
    "            cleaned_str = cleaned_str + ' ' + lemma\n",
    "        list_pos += 1\n",
    "    return cleaned_str\n",
    "\n",
    "lemmatize_udf = udf(lemmatize, StringType())\n",
    "lemmatized_notes_df = small_notes_df.withColumn(\"lemmatized\", lemmatize_udf(small_notes_df['text']))"
   ]
  },
  {
   "cell_type": "markdown",
   "metadata": {},
   "source": [
    "We use a Spark `RegexTokenizer` to break up the strings into separate words. We then define a `udf` to implement a string length filter."
   ]
  },
  {
   "cell_type": "code",
   "execution_count": 7,
   "metadata": {
    "collapsed": false
   },
   "outputs": [],
   "source": [
    "tokenizer = RegexTokenizer(inputCol=\"lemmatized\", outputCol=\"tokens\", pattern=\"\\\\W\")\n",
    "\n",
    "def length_filter(tokens):\n",
    "    return [token for token in tokens if (len(token) > 7 and len(token) < 25)]\n",
    "\n",
    "schema1 = ArrayType(StringType())\n",
    "length_filter_udf = udf(length_filter, schema1)\n",
    "notes_tokenized = tokenizer.transform(lemmatized_notes_df)\n",
    "notes_tokenized = notes_tokenized.select(notes_tokenized['rowid'], length_filter_udf(notes_tokenized[\"tokens\"]).alias(\"tokens\"))"
   ]
  },
  {
   "cell_type": "markdown",
   "metadata": {},
   "source": [
    "After tokenizing the inputs, we use a Spark `StopWordsRemover` to clean up the data by removing common English words."
   ]
  },
  {
   "cell_type": "code",
   "execution_count": 8,
   "metadata": {
    "collapsed": false
   },
   "outputs": [],
   "source": [
    "default_english = StopWordsRemover().getStopWords()\n",
    "common_words = [\"admission\", \"discharge\"] + default_english\n",
    "remover = StopWordsRemover(inputCol=\"tokens\", stopWords=common_words, outputCol=\"tokens_filtered\")\n",
    "filtered_tokens = remover.transform(notes_tokenized)"
   ]
  },
  {
   "cell_type": "markdown",
   "metadata": {},
   "source": [
    "In order to run a Machine Learning algorithm we need to transform the lists of words to word-count vectors of the form `Vector(vocabSize,Array(tokenIndices),Array(tokenCounts))`."
   ]
  },
  {
   "cell_type": "code",
   "execution_count": 9,
   "metadata": {
    "collapsed": false
   },
   "outputs": [
    {
     "name": "stdout",
     "output_type": "stream",
     "text": [
      "+-----+--------------------+--------------------+--------------------+\n",
      "|rowid|              tokens|     tokens_filtered|            features|\n",
      "+-----+--------------------+--------------------+--------------------+\n",
      "|  227|[admission, disch...|[medicine, oncolo...|(8320,[2,5,6,7,9,...|\n",
      "|  868|[admission, disch...|[medicine, allerg...|(8320,[0,2,3,5,6,...|\n",
      "|  869|[admission, disch...|[medicine, allerg...|(8320,[0,2,3,5,6,...|\n",
      "|  870|[admission, disch...|[medicine, allerg...|(8320,[0,2,3,5,6,...|\n",
      "|  906|[admission, disch...|[medicine, morphi...|(8320,[0,2,3,4,5,...|\n",
      "+-----+--------------------+--------------------+--------------------+\n",
      "only showing top 5 rows\n",
      "\n"
     ]
    }
   ],
   "source": [
    "cv = CountVectorizer(inputCol=\"tokens_filtered\", outputCol=\"features\").fit(filtered_tokens)\n",
    "token_counts = cv.transform(filtered_tokens)\n",
    "token_counts.show(5)"
   ]
  },
  {
   "cell_type": "code",
   "execution_count": 10,
   "metadata": {
    "collapsed": true
   },
   "outputs": [],
   "source": [
    "feature_vectors = token_counts.select('rowid', 'features')"
   ]
  },
  {
   "cell_type": "markdown",
   "metadata": {},
   "source": [
    "Finally, we run the LDA algorithm itself"
   ]
  },
  {
   "cell_type": "code",
   "execution_count": 11,
   "metadata": {
    "collapsed": false
   },
   "outputs": [],
   "source": [
    "lda = LDA().setK(3)\n",
    "model = lda.fit(feature_vectors)"
   ]
  },
  {
   "cell_type": "markdown",
   "metadata": {},
   "source": [
    "## Analyzing the Data"
   ]
  },
  {
   "cell_type": "markdown",
   "metadata": {},
   "source": [
    "Let's look at how the word weights are distributed within each topic."
   ]
  },
  {
   "cell_type": "code",
   "execution_count": 12,
   "metadata": {
    "collapsed": false
   },
   "outputs": [
    {
     "name": "stdout",
     "output_type": "stream",
     "text": [
      "+-----+------------------------------------------------------------------------------------------------------------------+-----------------------------------------------------------------------------------------------------------------------------------------------------------------------------------------------------------------------------+\n",
      "|topic|terms                                                                                                             |termWeights                                                                                                                                                                                                                  |\n",
      "+-----+------------------------------------------------------------------------------------------------------------------+-----------------------------------------------------------------------------------------------------------------------------------------------------------------------------------------------------------------------------+\n",
      "|0    |[contrast, ventricular, effusion, systolic, regurgitation, pericardial, moderate, ventricle, fracture, hemorrhage]|[0.028710887987045925, 0.014617461235736836, 0.010028100337490322, 0.010026214819439848, 0.008990024754637359, 0.0088616181768712, 0.00832726297774529, 0.007906078632588666, 0.006851393387799059, 0.0067568274977599764]   |\n",
      "|1    |[continue, assessment, hospital, respiratory, response, medication, increase, examination, radiology, negative]   |[0.022307809766518763, 0.02125851132504526, 0.01658568012967032, 0.01372683312525931, 0.013410582702156464, 0.0090647962571179, 0.007855887822875648, 0.007004739474697994, 0.006759492679054885, 0.006656334666210076]      |\n",
      "|2    |[catheter, procedure, identifier, namepattern, placement, exchange, fluoroscopic, radiology, hospital, guidance]  |[0.014970478286934406, 0.01446366425551787, 0.009330237536570465, 0.0067754407506396535, 0.005824140031760121, 0.005019956894361998, 0.004857759287178882, 0.0047234839479682374, 0.004632300063971008, 0.004545590977357186]|\n",
      "+-----+------------------------------------------------------------------------------------------------------------------+-----------------------------------------------------------------------------------------------------------------------------------------------------------------------------------------------------------------------------+\n",
      "\n"
     ]
    }
   ],
   "source": [
    "topics = model.describeTopics()\n",
    "\n",
    "def indices_mapping(indices, vocab):\n",
    "    return [vocab[i] for i in indices]\n",
    "\n",
    "def make_indices_mapping(vocab):\n",
    "    schema2 = ArrayType(StringType())\n",
    "    return udf(lambda indices: indices_mapping(indices, vocab), schema2)\n",
    "\n",
    "topics_with_words = topics.select(topics[\"topic\"], make_indices_mapping(cv.vocabulary)(topics[\"termIndices\"]).alias(\"terms\"), topics[\"termWeights\"])\n",
    "topics_with_words.show(truncate=False)"
   ]
  },
  {
   "cell_type": "markdown",
   "metadata": {},
   "source": [
    "Using Matpotlib, let's take a grahical approach to viewing the word weights in the first topic."
   ]
  },
  {
   "cell_type": "code",
   "execution_count": 13,
   "metadata": {
    "collapsed": false
   },
   "outputs": [
    {
     "data": {
      "image/png": "[encoded data removed]",
      "text/plain": [
       "<matplotlib.figure.Figure at 0x7f5a842087d0>"
      ]
     },
     "metadata": {},
     "output_type": "display_data"
    },
    {
     "data": {
      "text/plain": [
       "<matplotlib.figure.Figure at 0x7f5a84065090>"
      ]
     },
     "metadata": {},
     "output_type": "display_data"
    }
   ],
   "source": [
    "topics_with_words_pdf = topics_with_words.toPandas()\n",
    "first_topic = topics_with_words_pdf.iloc[0]\n",
    "min_first_topic = min(first_topic.termWeights)\n",
    "max_first_topic = max(first_topic.termWeights)\n",
    "\n",
    "\n",
    "for i in range(len(first_topic.terms)):\n",
    "    plt.bar(0, (first_topic.termWeights[i] - min_first_topic)/(max_first_topic - min_first_topic) * 100, label=first_topic.terms[i])\n",
    "\n",
    "ax = plt.axes()\n",
    "rects = ax.patches\n",
    "rectangle_tops = []\n",
    "for rect in rects:\n",
    "    rectangle_tops.append(rect.get_height())\n",
    "    \n",
    "rectangle_tops.append(0.0)\n",
    "i = 1\n",
    "for (rect, label) in zip(rects, first_topic.terms):\n",
    "    height = rect.get_height()\n",
    "    width = rect.get_width()\n",
    "    plt.text(rect.get_x() + width/2, (height + rectangle_tops[i])/2, label, ha='center', va='center', size=14)\n",
    "    i = i + 1\n",
    "\n",
    "    \n",
    "# plt.legend(bbox_to_anchor=(1.05, 1), loc=\"best\", ncol=1)\n",
    "plt.xlabel(\"Topic 0\", size=14)\n",
    "plt.ylabel(\"Normalized Weight per Word\", size=14)\n",
    "plt.tick_params(\n",
    "    axis='x',\n",
    "    which='both',\n",
    "    bottom='off',\n",
    "    top='off',\n",
    "    labelbottom='off'\n",
    ")\n",
    "\n",
    "\n",
    "plt.figure(figsize=(100, 100), dpi=100)\n",
    "plt.show()\n",
    "plt.close()\n",
    "\n"
   ]
  },
  {
   "cell_type": "markdown",
   "metadata": {},
   "source": [
    "Next, let's analyze the topic distributions within two documents."
   ]
  },
  {
   "cell_type": "code",
   "execution_count": 14,
   "metadata": {
    "collapsed": false,
    "scrolled": true
   },
   "outputs": [
    {
     "data": {
      "image/png": "[encoded data removed]",
      "text/plain": [
       "<matplotlib.figure.Figure at 0x7f5a7c7c2290>"
      ]
     },
     "metadata": {},
     "output_type": "display_data"
    }
   ],
   "source": [
    "topic_distribution_pds = model.transform(feature_vectors).select(\"topicDistribution\").toPandas()\n",
    "first_document = topic_distribution_pds.iloc[0]\n",
    "second_document = topic_distribution_pds.iloc[5421]\n",
    "\n",
    "labels = ['Topic 0', 'Topic 1', 'Topic2']\n",
    "plt.pie(first_document.topicDistribution, labels=labels, autopct='%1.1f%%')\n",
    "plt.title(\"Topic Distribution for the First Document\", size=14)\n",
    "plt.show()\n",
    "plt.close()"
   ]
  },
  {
   "cell_type": "code",
   "execution_count": 15,
   "metadata": {
    "collapsed": false
   },
   "outputs": [
    {
     "data": {
      "image/png": "[encoded data removed]",
      "text/plain": [
       "<matplotlib.figure.Figure at 0x7f5a7c735090>"
      ]
     },
     "metadata": {},
     "output_type": "display_data"
    }
   ],
   "source": [
    "plt.pie(second_document.topicDistribution, labels=labels, autopct='%1.1f%%')\n",
    "plt.title(\"Topic Distribution for Second Document\",size=14)\n",
    "plt.show()\n",
    "plt.close()"
   ]
  },
  {
   "cell_type": "code",
   "execution_count": null,
   "metadata": {
    "collapsed": true
   },
   "outputs": [],
   "source": []
  }
 ],
 "metadata": {
  "kernelspec": {
   "display_name": "Hail",
   "language": "python",
   "name": "hail"
  },
  "language_info": {
   "codemirror_mode": {
    "name": "ipython",
    "version": 2
   },
   "file_extension": ".py",
   "mimetype": "text/x-python",
   "name": "python",
   "nbconvert_exporter": "python",
   "pygments_lexer": "ipython2",
   "version": "2.7.13"
  }
 },
 "nbformat": 4,
 "nbformat_minor": 2
}